{
 "cells": [
  {
   "cell_type": "code",
   "execution_count": 1,
   "id": "485c591d-d005-45a7-902a-2cd89f3bea5a",
   "metadata": {},
   "outputs": [],
   "source": [
    "import requests\n",
    "import bs4"
   ]
  },
  {
   "cell_type": "code",
   "execution_count": 2,
   "id": "276d8f1b-32dc-4ce4-bd8c-70f1827d8d55",
   "metadata": {},
   "outputs": [],
   "source": [
    "from bs4 import BeautifulSoup"
   ]
  },
  {
   "cell_type": "code",
   "execution_count": 11,
   "id": "9609816a-1eea-4658-843f-d1bb03466420",
   "metadata": {},
   "outputs": [],
   "source": [
    "from IPython.display import clear_output"
   ]
  },
  {
   "cell_type": "code",
   "execution_count": 122,
   "id": "2b6dd7e8-7f8a-44c1-a60b-f4602a424678",
   "metadata": {},
   "outputs": [],
   "source": [
    "url=\"https://www.realestateindia.com/search.php?searchlistfor=1&search_catg_type%5B%5D=8&min_val=500000&max_val=10000000&allcategory=&allcity=77\""
   ]
  },
  {
   "cell_type": "code",
   "execution_count": 123,
   "id": "1e647aaa-9023-4dc1-a0e3-745ffde276bc",
   "metadata": {},
   "outputs": [
    {
     "data": {
      "text/plain": [
       "<Response [200]>"
      ]
     },
     "execution_count": 123,
     "metadata": {},
     "output_type": "execute_result"
    }
   ],
   "source": [
    "b=requests.get(url)\n",
    "b"
   ]
  },
  {
   "cell_type": "code",
   "execution_count": 124,
   "id": "388047d0-b33f-47b1-a20a-31be321a0c0e",
   "metadata": {},
   "outputs": [
    {
     "data": {
      "text/plain": [
       "str"
      ]
     },
     "execution_count": 124,
     "metadata": {},
     "output_type": "execute_result"
    }
   ],
   "source": [
    "type(b.text)"
   ]
  },
  {
   "cell_type": "code",
   "execution_count": 125,
   "id": "4772eb1c-8119-4f24-afb6-06e1480c38c2",
   "metadata": {},
   "outputs": [
    {
     "data": {
      "text/plain": [
       "bs4.BeautifulSoup"
      ]
     },
     "execution_count": 125,
     "metadata": {},
     "output_type": "execute_result"
    }
   ],
   "source": [
    "a = BeautifulSoup(b.text)\n",
    "type(a)"
   ]
  },
  {
   "cell_type": "code",
   "execution_count": 126,
   "id": "92ccb998-9e37-41af-9a7d-ce206534f84f",
   "metadata": {},
   "outputs": [
    {
     "data": {
      "text/plain": [
       "'₹ 67 Lac'"
      ]
     },
     "execution_count": 126,
     "metadata": {},
     "output_type": "execute_result"
    }
   ],
   "source": [
    "a.find('span',{'class':'pro-rice',}).text"
   ]
  },
  {
   "cell_type": "code",
   "execution_count": 127,
   "id": "a84d9f41-3560-4567-b6e6-90150dd3aea0",
   "metadata": {},
   "outputs": [
    {
     "data": {
      "text/plain": [
       "'1076 sq.ft'"
      ]
     },
     "execution_count": 127,
     "metadata": {},
     "output_type": "execute_result"
    }
   ],
   "source": [
    "a.find('span',{'class':'area-btm'}).text"
   ]
  },
  {
   "cell_type": "code",
   "execution_count": 128,
   "id": "40468783-7785-4c68-853d-e9d043792ddb",
   "metadata": {},
   "outputs": [
    {
     "data": {
      "text/plain": [
       "'\\n2 BHK 1076 Sq.ft. Flats / Apartments for Sale in Kukatpally, Hyderabad\\n'"
      ]
     },
     "execution_count": 128,
     "metadata": {},
     "output_type": "execute_result"
    }
   ],
   "source": [
    "a.find('div',{'class':'head-title-left'}).text"
   ]
  },
  {
   "cell_type": "code",
   "execution_count": 129,
   "id": "931388c6-331e-4e89-ae5a-9ed7076a5bc7",
   "metadata": {},
   "outputs": [
    {
     "data": {
      "text/plain": [
       "'\\nSadguna Properties Agent'"
      ]
     },
     "execution_count": 129,
     "metadata": {},
     "output_type": "execute_result"
    }
   ],
   "source": [
    "a.find('div',{'class':'cal_user_info_name'}).text"
   ]
  },
  {
   "cell_type": "code",
   "execution_count": 130,
   "id": "b79900ae-5b07-48c6-82e9-a92db7faf18e",
   "metadata": {},
   "outputs": [
    {
     "name": "stdout",
     "output_type": "stream",
     "text": [
      "['67', '65', '27', '58', '86', '44', '65', '46', '51', '99', '58', '50', '99', '55', '83', '51', '67', '60', '65', '61']\n",
      "20\n"
     ]
    }
   ],
   "source": [
    "import re\n",
    "\n",
    "Price = []\n",
    "\n",
    "price_e = a.find_all('span', {'class': 'pro-rice'}) \n",
    "\n",
    "for j in price_e:\n",
    "    price_text = j.text.strip()\n",
    "    match = re.search(r'(\\d+)', price_text)\n",
    "    \n",
    "    if match:\n",
    "        price_number = match.group(1)\n",
    "        Price.append(price_number)\n",
    "\n",
    "print(Price)\n",
    "print(len(Price))\n"
   ]
  },
  {
   "cell_type": "code",
   "execution_count": 131,
   "id": "88aa0988-692d-430a-ae56-b300b2119d91",
   "metadata": {},
   "outputs": [
    {
     "name": "stdout",
     "output_type": "stream",
     "text": [
      "['1076', '1150', '650', '945', '1250', '1175', '1230', '1035', '1295', '1000', '1090', '1260', '1660', '1070', '1600', '1068', '1185', '1250', '1200', '1220']\n",
      "20\n"
     ]
    }
   ],
   "source": [
    "import re\n",
    "\n",
    "area_elements = a.find_all('span', {'class': 'area-btm'})\n",
    "\n",
    "Area = []  \n",
    "\n",
    "for element in area_elements:\n",
    "    room_text = element.text.strip()\n",
    "    \n",
    "    match = re.search(r'(\\d+)\\s*sq\\.?ft', room_text, re.IGNORECASE)\n",
    "    \n",
    "    if match:\n",
    "        sqft = match.group(1)  \n",
    "        Area.append(sqft)\n",
    "\n",
    "print(Area)          \n",
    "print(len(Area))     \n"
   ]
  },
  {
   "cell_type": "code",
   "execution_count": 132,
   "id": "1b88909a-efff-4f79-badd-9ac5b723913d",
   "metadata": {},
   "outputs": [
    {
     "name": "stdout",
     "output_type": "stream",
     "text": [
      "['2 BHK', '2 BHK', '1 BHK', '2 BHK', '3 BHK', '2 BHK', '2 BHK', '2 BHK', '2 BHK', '2 BHK', '2 BHK', '2 BHK', '3 BHK', '2 BHK', '3 BHK', '2 BHK', '2 BHK', '2 BHK', '2 BHK', '2 BHK']\n",
      "20\n"
     ]
    }
   ],
   "source": [
    "Rooms = []\n",
    "\n",
    "room_elements = a.find_all('div', {'class': 'head-title-left'})  \n",
    "\n",
    "for element in room_elements:\n",
    "    price_text = element.get_text(strip=True)\n",
    "    \n",
    "    matches = re.findall(r'\\d+\\s*BHK', price_text)\n",
    "    \n",
    "    for match in matches:\n",
    "        Rooms.append(match)\n",
    "\n",
    "print(Rooms)\n",
    "print(len(Rooms))"
   ]
  },
  {
   "cell_type": "code",
   "execution_count": 134,
   "id": "90ac3d39-26b1-47bd-8957-d6a85a7ca4cd",
   "metadata": {},
   "outputs": [
    {
     "name": "stdout",
     "output_type": "stream",
     "text": [
      "['Sadguna PropertiesAgent', 'Rudhra Real EstatesAgent', 'Vaarahi Infra ProjectsAgent', 'Sri Sai Balaji Real Estate & ConstructionsAgent', 'Premium Properties HyderabadAgent', 'Shriven Life SpacesBuilder', 'Srigdhaa GroupsAgent', 'D FM SOLUTIONSBuilder', 'Digwitha DevelopersBuilder', 'Best Properties HyderabadBuilder', 'SKYLINE HOMESAgent', 'DARSHIKA DEVELOPERSBuilder', 'AbdulOwner', 'AB PROPERTIESBuilder', 'VNR BUILDERSBuilder', 'SRR INFRA DEVELOPERS HYDERABADAgent', 'BRINDA INFRAAgent', 'ShravOwner', 'MathewOwner', 'Make My PropertiesAgent']\n",
      "20\n"
     ]
    }
   ],
   "source": [
    "import re\n",
    "seller_elements = a.find_all('div', {'class': 'cal_user_info_name'}) \n",
    "Seller=[]\n",
    "for element in seller_elements:\n",
    "    seller_text = element.get_text(strip=True)\n",
    "    Seller.append(seller_text)\n",
    "\n",
    "print(Seller)\n",
    "print(len(Seller))\n"
   ]
  },
  {
   "cell_type": "code",
   "execution_count": 88,
   "id": "e0b44608-a13f-4436-b1df-7bea18219b84",
   "metadata": {},
   "outputs": [
    {
     "name": "stdout",
     "output_type": "stream",
     "text": [
      "Scraping from page 1\n",
      "Scraping from page 2\n",
      "Scraping from page 3\n",
      "Scraping from page 4\n",
      "Scraping from page 5\n",
      "Scraping from page 6\n",
      "Scraping from page 7\n",
      "Scraping from page 8\n",
      "Scraping from page 9\n",
      "Scraping from page 10\n",
      "Scraping from page 11\n",
      "Scraping from page 12\n",
      "Scraping from page 13\n",
      "Scraping from page 14\n",
      "Scraping from page 15\n",
      "Scraping from page 16\n",
      "Scraping from page 17\n",
      "Scraping from page 18\n",
      "Scraping from page 19\n",
      "Scraping from page 20\n",
      "Scraping from page 21\n",
      "Scraping from page 22\n",
      "Scraping from page 23\n",
      "Scraping from page 24\n",
      "Scraping from page 25\n",
      "Scraping from page 26\n",
      "Scraping from page 27\n",
      "Scraping from page 28\n",
      "Scraping from page 29\n",
      "Scraping from page 30\n",
      "Scraping from page 31\n",
      "Scraping from page 32\n",
      "Scraping from page 33\n",
      "Scraping from page 34\n",
      "Scraping from page 35\n",
      "Scraping from page 36\n",
      "Scraping from page 37\n",
      "Scraping from page 38\n",
      "Scraping from page 39\n",
      "Scraping from page 40\n",
      "Scraping from page 41\n",
      "Scraping from page 42\n",
      "Scraping from page 43\n",
      "Scraping from page 44\n",
      "Scraping from page 45\n",
      "Scraping from page 46\n",
      "Scraping from page 47\n",
      "Scraping from page 48\n",
      "Scraping from page 49\n",
      "Scraping from page 50\n",
      "Scraping from page 51\n",
      "Scraping from page 52\n",
      "Scraping from page 53\n",
      "Scraping from page 54\n",
      "Scraping from page 55\n",
      "Scraping from page 56\n",
      "Scraping from page 57\n",
      "Scraping from page 58\n",
      "Scraping from page 59\n"
     ]
    }
   ],
   "source": [
    "import re\n",
    "import requests\n",
    "from bs4 import BeautifulSoup\n",
    "import time\n",
    "\n",
    "# Initialize lists for storing data\n",
    "Prices = []\n",
    "Areas = []\n",
    "Rooms = []\n",
    "Sellers = []\n",
    "\n",
    "# Track the number of properties (to fill missing values later)\n",
    "property_count = 0\n",
    "\n",
    "for i in range(1, 60):\n",
    "    url = f\"https://www.realestateindia.com/search.php?searchlistfor={i}\"\n",
    "    print(f'Scraping from page {i}')\n",
    "    time.sleep(1)  # Sleep to avoid overloading the server\n",
    "    \n",
    "    # Fetch the page content\n",
    "    response = requests.get(url)\n",
    "    soup = BeautifulSoup(response.text, 'html.parser')\n",
    "\n",
    "    # Prices\n",
    "    price_elements = soup.find_all('span', {'class': 'pro-rice'})\n",
    "    for element in price_elements:\n",
    "        price_text = element.get_text(strip=True)\n",
    "        match = re.search(r'(\\d+)', price_text)\n",
    "        if match:\n",
    "            price_number = match.group(1)\n",
    "            Prices.append(price_number)\n",
    "    \n",
    "    # Square Feet\n",
    "    area_elements = soup.find_all('span', {'class': 'area-btm'})\n",
    "    for element in area_elements:\n",
    "        area_text = element.get_text(strip=True)\n",
    "        match = re.search(r'(\\d+)\\s*sq\\.?ft', area_text, re.IGNORECASE)\n",
    "        if match:\n",
    "            sqft = match.group(1)\n",
    "            Areas.append(sqft)\n",
    "    \n",
    "    # Rooms\n",
    "    room_elements = soup.find_all('div', {'class': 'head-title-left'})\n",
    "    room_texts = [element.get_text(strip=True) for element in room_elements]\n",
    "    for room_text in room_texts:\n",
    "        matches = re.findall(r'\\d+\\s*BHK', room_text)\n",
    "        if matches:\n",
    "            Rooms.extend(matches)\n",
    "        else:\n",
    "            Rooms.append(None)\n",
    "    \n",
    "    # Sellers\n",
    "    seller_elements = soup.find_all('div', {'class': 'cal_user_info_name'})\n",
    "    for element in seller_elements:\n",
    "        seller_text = element.get_text(strip=True)\n",
    "        Sellers.append(seller_text)\n",
    "\n",
    "    # Track the count of properties\n",
    "    property_count += len(price_elements)\n",
    "\n",
    "# Fill missing values if necessary\n",
    "# Assume that the number of prices should match the number of other lists\n",
    "while len(Prices) < property_count:\n",
    "    Prices.append(None)\n",
    "while len(Areas) < property_count:\n",
    "    Areas.append(None)\n",
    "while len(Rooms) < property_count:\n",
    "    Rooms.append(None)\n",
    "while len(Sellers) < property_count:\n",
    "    Sellers.append(None)\n",
    "\n",
    "\n"
   ]
  },
  {
   "cell_type": "code",
   "execution_count": 89,
   "id": "fd60ef5e-ec37-4b73-80fd-544b072c5ec7",
   "metadata": {},
   "outputs": [
    {
     "name": "stdout",
     "output_type": "stream",
     "text": [
      "80\n",
      "80\n",
      "80\n",
      "80\n"
     ]
    }
   ],
   "source": [
    "print(len(Prices))\n",
    "print(len(Areas))\n",
    "print(len(Rooms))\n",
    "print(len(Sellers))"
   ]
  },
  {
   "cell_type": "code",
   "execution_count": 150,
   "id": "19480134-19e3-4026-b848-1065a0b1e944",
   "metadata": {},
   "outputs": [],
   "source": [
    "url1 = \"https://www.realestateindia.com/search.php?allcategory=8%2C9%2C11%2C12%2C25%2C54%2C55&bedrooms=&comm_prop_type=8&comm_prop_type=9&comm_prop_type=11&comm_prop_type=12&comm_prop_type=25&comm_prop_type=54&comm_prop_type=55&min_val=500000&max_val=1000000000&city=Hyderabad&city_hidden=77&locality%5B%5D=77&searchlistfor=1\"\n",
    "\n",
    "response = requests.get(url1)\n",
    "soup = BeautifulSoup(response.text, 'html.parser')\n"
   ]
  },
  {
   "cell_type": "code",
   "execution_count": 147,
   "id": "5a443bbb-82a6-4362-8e0e-60d7de4d9935",
   "metadata": {},
   "outputs": [
    {
     "name": "stdout",
     "output_type": "stream",
     "text": [
      "Scraping from page 1\n",
      "Unexpected price format: Call for Price\n",
      "Scraping from page 2\n",
      "Unexpected price format: Call for Price\n",
      "Scraping from page 3\n",
      "Unexpected price format: Call for Price\n",
      "Unexpected price format: Call for Price\n",
      "Scraping from page 4\n",
      "Scraping from page 5\n",
      "Scraping from page 6\n",
      "Scraping from page 7\n",
      "Scraping from page 8\n",
      "Scraping from page 9\n",
      "Scraping from page 10\n",
      "Scraping from page 11\n",
      "Scraping from page 12\n",
      "Scraping from page 13\n",
      "Scraping from page 14\n",
      "Scraping from page 15\n",
      "Scraping from page 16\n",
      "Scraping from page 17\n",
      "Scraping from page 18\n",
      "Scraping from page 19\n",
      "Scraping from page 20\n",
      "Scraping from page 21\n",
      "Scraping from page 22\n",
      "Scraping from page 23\n",
      "Scraping from page 24\n",
      "Scraping from page 25\n",
      "Scraping from page 26\n",
      "Scraping from page 27\n",
      "Scraping from page 28\n",
      "Scraping from page 29\n",
      "Scraping from page 30\n",
      "Scraping from page 31\n",
      "Scraping from page 32\n",
      "Scraping from page 33\n",
      "Scraping from page 34\n",
      "Scraping from page 35\n",
      "Scraping from page 36\n",
      "Scraping from page 37\n",
      "Scraping from page 38\n",
      "Scraping from page 39\n",
      "Scraping from page 40\n",
      "Scraping from page 41\n",
      "Scraping from page 42\n",
      "Scraping from page 43\n",
      "Scraping from page 44\n",
      "Scraping from page 45\n",
      "Scraping from page 46\n",
      "Scraping from page 47\n",
      "Scraping from page 48\n",
      "Scraping from page 49\n",
      "Scraping from page 50\n",
      "Scraping from page 51\n",
      "Scraping from page 52\n",
      "Scraping from page 53\n",
      "Scraping from page 54\n",
      "Scraping from page 55\n",
      "Scraping from page 56\n",
      "Scraping from page 57\n",
      "Scraping from page 58\n",
      "Scraping from page 59\n",
      "Prices: 302, Areas: 302, Rooms: 302, Sellers: 302\n"
     ]
    }
   ],
   "source": [
    "import re\n",
    "import requests\n",
    "from bs4 import BeautifulSoup\n",
    "import time\n",
    "\n",
    "# Initialize lists for storing data\n",
    "Price1 = []\n",
    "Areas1 = []\n",
    "Rooms1 = []\n",
    "Sellers1 = []\n",
    "\n",
    "for i in range(1, 60):\n",
    "    url = f\"https://www.realestateindia.com/search.php?searchlistfor={i}\"\n",
    "    print(f'Scraping from page {i}')\n",
    "    time.sleep(1)  # Sleep to avoid overloading the server\n",
    "    \n",
    "    # Fetch the page content\n",
    "    resp = requests.get(url)\n",
    "    a = BeautifulSoup(resp.text, 'html.parser')\n",
    "\n",
    "    # Prices\n",
    "    price_ele = a.find_all('div', {'class': 'clasified-text-rt'})\n",
    "    for ele in price_ele:\n",
    "        price_text = ele.text.strip()\n",
    "        \n",
    "        # Remove all non-digit characters except for the dot\n",
    "        price_text = re.sub(r'[^\\d.]', '', price_text)\n",
    "        \n",
    "        # Handle possible incorrect formatting like \"15.60.\" (remove trailing dot)\n",
    "        if price_text.endswith('.'):\n",
    "            price_text = price_text[:-1]\n",
    "        \n",
    "        try:\n",
    "            if \"Cr\" in ele.text:\n",
    "                price_value = int(float(price_text) * 100)  \n",
    "            elif \"L\" in ele.text:\n",
    "                price_value = int(float(price_text)) \n",
    "            else:\n",
    "                price_value = int(float(price_text)) \n",
    "            Price1.append(price_value)\n",
    "        except ValueError:\n",
    "            Price1.append(None)  \n",
    "\n",
    "    # Square Feet\n",
    "    area_elements = a.find_all('span', {'class': 'area-btm'})\n",
    "    for element in area_elements:\n",
    "        area_text = element.get_text(strip=True)\n",
    "        match = re.search(r'(\\d+)\\s*sq\\.?ft', area_text, re.IGNORECASE)\n",
    "        if match:\n",
    "            sqft = match.group(1)\n",
    "            Areas1.append(sqft)\n",
    "        else:\n",
    "            Areas1.append(None)\n",
    "\n",
    "    # Rooms\n",
    "    room_ele = a.find_all('div', {'class': 'head-title-left'})\n",
    "    for element in room_ele:\n",
    "        room_text = element.get_text(strip=True)\n",
    "        matches = re.findall(r'\\d+\\s*BHK', room_text)\n",
    "        if matches:\n",
    "            Rooms1.append(matches[0])  # Only take the first match, assuming one BHK per listing\n",
    "        else:\n",
    "            Rooms1.append(None)\n",
    "    \n",
    "    # Sellers\n",
    "    seller_elements = a.find_all('div', {'class': 'cal_user_info_name'})\n",
    "    for element in seller_elements:\n",
    "        seller_text = element.get_text(strip=True)\n",
    "        Sellers1.append(seller_text)\n",
    "\n",
    "# Ensure all lists are of equal length by filling in missing data with None\n",
    "property_count = max(len(Price1), len(Areas1), len(Rooms1), len(Sellers1))\n",
    "\n",
    "while len(Price1) < property_count:\n",
    "    Price1.append(None)\n",
    "while len(Areas1) < property_count:\n",
    "    Areas1.append(None)\n",
    "while len(Rooms1) < property_count:\n",
    "    Rooms1.append(None)\n",
    "while len(Sellers1) < property_count:\n",
    "    Sellers1.append(None)\n",
    "\n",
    "# Print the lengths to verify\n",
    "print(f\"Prices: {len(Price1)}, Areas: {len(Areas1)}, Rooms: {len(Rooms1)}, Sellers: {len(Sellers1)}\")\n"
   ]
  },
  {
   "cell_type": "code",
   "execution_count": 149,
   "id": "321c2a70-1460-407f-bf48-9bbbe9001af1",
   "metadata": {},
   "outputs": [
    {
     "name": "stdout",
     "output_type": "stream",
     "text": [
      "302\n",
      "302\n",
      "302\n",
      "302\n"
     ]
    }
   ],
   "source": [
    "print(len(Price1))\n",
    "print(len(Areas1))\n",
    "print(len(Rooms1))\n",
    "print(len(Sellers1))"
   ]
  },
  {
   "cell_type": "code",
   "execution_count": 152,
   "id": "c64bcf1f-caea-415b-aa47-5d31df80403f",
   "metadata": {},
   "outputs": [
    {
     "name": "stdout",
     "output_type": "stream",
     "text": [
      "Scraping from page 1\n",
      "Scraping from page 2\n",
      "Scraping from page 3\n",
      "Scraping from page 4\n",
      "Scraping from page 5\n",
      "Scraping from page 6\n",
      "Scraping from page 7\n",
      "Scraping from page 8\n",
      "Scraping from page 9\n",
      "Scraping from page 10\n",
      "Scraping from page 11\n",
      "Scraping from page 12\n",
      "Scraping from page 13\n",
      "Scraping from page 14\n",
      "Scraping from page 15\n",
      "Scraping from page 16\n",
      "Scraping from page 17\n",
      "Scraping from page 18\n",
      "Scraping from page 19\n",
      "Scraping from page 20\n",
      "Scraping from page 21\n",
      "Scraping from page 22\n",
      "Scraping from page 23\n",
      "Scraping from page 24\n",
      "Scraping from page 25\n",
      "Scraping from page 26\n",
      "Scraping from page 27\n",
      "Scraping from page 28\n",
      "Scraping from page 29\n",
      "Scraping from page 30\n",
      "Scraping from page 31\n",
      "Scraping from page 32\n",
      "Scraping from page 33\n",
      "Scraping from page 34\n",
      "Scraping from page 35\n",
      "Scraping from page 36\n",
      "Scraping from page 37\n",
      "Scraping from page 38\n",
      "Scraping from page 39\n",
      "Scraping from page 40\n",
      "Scraping from page 41\n",
      "Scraping from page 42\n",
      "Scraping from page 43\n",
      "Scraping from page 44\n",
      "Scraping from page 45\n",
      "Scraping from page 46\n",
      "Scraping from page 47\n",
      "Scraping from page 48\n",
      "Scraping from page 49\n",
      "Scraping from page 50\n",
      "Scraping from page 51\n",
      "Scraping from page 52\n",
      "Scraping from page 53\n",
      "Scraping from page 54\n",
      "Scraping from page 55\n",
      "Scraping from page 56\n",
      "Scraping from page 57\n",
      "Scraping from page 58\n",
      "Scraping from page 59\n",
      "Prices: 4720, Areas: 4720, Rooms: 4720, Sellers: 4720\n"
     ]
    }
   ],
   "source": [
    "import re\n",
    "import requests\n",
    "from bs4 import BeautifulSoup\n",
    "import time\n",
    "\n",
    "url2 = \"https://www.realestateindia.com/search.php?allcategory=8%2C9%2C11%2C12%2C25%2C54%2C55&bedrooms=&comm_prop_type=8&comm_prop_type=9&comm_prop_type=11&comm_prop_type=12&comm_prop_type=25&comm_prop_type=54&comm_prop_type=55&min_val=500000&max_val=1000000000&city=Hyderabad&city_hidden=77&locality%5B%5D=77&searchlistfor=1\"\n",
    "\n",
    "response = requests.get(url2)\n",
    "so = BeautifulSoup(response.text, 'html.parser')\n",
    "\n",
    "Price2 = []\n",
    "Areas2 = []\n",
    "Rooms2 = []\n",
    "Sellers2 = []\n",
    "\n",
    "for i in range(1, 60):\n",
    "    url = f\"https://www.realestateindia.com/search.php?searchlistfor={i}\"\n",
    "    print(f'Scraping from page {i}')\n",
    "    time.sleep(1)  # Sleep to avoid overloading the server\n",
    "    \n",
    "    # Fetch the page content\n",
    "    resp = requests.get(url)\n",
    "    a = BeautifulSoup(resp.text, 'html.parser')\n",
    "\n",
    "    # Prices\n",
    "    price_ele = so.find_all('div', {'class': 'clasified-text-rt'})\n",
    "    for ele in price_ele:\n",
    "        price_text = ele.text.strip()\n",
    "        \n",
    "        # Remove all non-digit characters except for the dot\n",
    "        price_text = re.sub(r'[^\\d.]', '', price_text)\n",
    "        \n",
    "        # Handle possible incorrect formatting like \"15.60.\" (remove trailing dot)\n",
    "        if price_text.endswith('.'):\n",
    "            price_text = price_text[:-1]\n",
    "        \n",
    "        try:\n",
    "            if \"Cr\" in ele.text:\n",
    "                price_value = int(float(price_text) * 100)  \n",
    "            elif \"L\" in ele.text:\n",
    "                price_value = int(float(price_text)) \n",
    "            else:\n",
    "                price_value = int(float(price_text)) \n",
    "            Price2.append(price_value)\n",
    "        except ValueError:\n",
    "            Price2.append(None)  \n",
    "\n",
    "    # Square Feet\n",
    "    area_elements = so.find_all('span', {'class': 'area-btm'})\n",
    "    for element in area_elements:\n",
    "        area_text = element.get_text(strip=True)\n",
    "        match = re.search(r'(\\d+)\\s*sq\\.?ft', area_text, re.IGNORECASE)\n",
    "        if match:\n",
    "            sqft = match.group(1)\n",
    "            Areas2.append(sqft)\n",
    "        else:\n",
    "            Areas2.append(None)\n",
    "\n",
    "    # Rooms (Fill with None since residential plots have no rooms)\n",
    "    room_elements = so.find_all('div', {'class': 'head-title-left'})\n",
    "    for _ in room_elements:\n",
    "        Rooms2.append(None)\n",
    "\n",
    "    # Sellers\n",
    "    seller_elements = so.find_all('div', {'class': 'cal_user_info_name'})\n",
    "    for element in seller_elements:\n",
    "        seller_text = element.get_text(strip=True)\n",
    "        Sellers2.append(seller_text)\n",
    "\n",
    "# Ensure all lists are of equal length by filling in missing data with None\n",
    "property_count = max(len(Price2), len(Areas2), len(Rooms2), len(Sellers2))\n",
    "\n",
    "while len(Price2) < property_count:\n",
    "    Price2.append(None)\n",
    "while len(Areas2) < property_count:\n",
    "    Areas2.append(None)\n",
    "while len(Rooms2) < property_count:\n",
    "    Rooms2.append(None)\n",
    "while len(Sellers2) < property_count:\n",
    "    Sellers2.append(None)\n",
    "\n",
    "# Print the lengths to verify\n",
    "print(f\"Prices: {len(Price2)}, Areas: {len(Areas2)}, Rooms: {len(Rooms2)}, Sellers: {len(Sellers2)}\")\n"
   ]
  },
  {
   "cell_type": "code",
   "execution_count": 153,
   "id": "2752bdae-1ac6-42aa-97f9-efc387d476c2",
   "metadata": {},
   "outputs": [
    {
     "name": "stdout",
     "output_type": "stream",
     "text": [
      "4720\n",
      "4720\n",
      "4720\n",
      "4720\n"
     ]
    }
   ],
   "source": [
    "print(len(Price2))\n",
    "print(len(Areas2))\n",
    "print(len(Rooms2))\n",
    "print(len(Sellers2))"
   ]
  },
  {
   "cell_type": "code",
   "execution_count": null,
   "id": "e21ec212-2290-4dec-bc77-b937f5acce3d",
   "metadata": {},
   "outputs": [],
   "source": []
  }
 ],
 "metadata": {
  "kernelspec": {
   "display_name": "Python 3 (ipykernel)",
   "language": "python",
   "name": "python3"
  },
  "language_info": {
   "codemirror_mode": {
    "name": "ipython",
    "version": 3
   },
   "file_extension": ".py",
   "mimetype": "text/x-python",
   "name": "python",
   "nbconvert_exporter": "python",
   "pygments_lexer": "ipython3",
   "version": "3.12.5"
  }
 },
 "nbformat": 4,
 "nbformat_minor": 5
}
